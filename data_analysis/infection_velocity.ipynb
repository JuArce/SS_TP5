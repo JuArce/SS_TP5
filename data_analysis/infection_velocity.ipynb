{
 "cells": [
  {
   "cell_type": "code",
   "execution_count": null,
   "metadata": {
    "collapsed": true
   },
   "outputs": [],
   "source": [
    "import pandas as pd"
   ]
  },
  {
   "cell_type": "code",
   "execution_count": null,
   "metadata": {},
   "outputs": [],
   "source": [
    "files = []\n",
    "files_numbers = [2,10,40,80,140,200,260,320]"
   ]
  },
  {
   "cell_type": "code",
   "execution_count": null,
   "metadata": {
    "collapsed": false,
    "pycharm": {
     "name": "#%%\n"
    }
   },
   "outputs": [],
   "source": [
    "# join every data frame in df\n",
    "for num in files_numbers:\n",
    "    aux = pd.read_csv(f'../src/main/resources/output/velocity/velocity_{num}.csv')\n",
    "    aux = aux.rename(columns={'Time':'Time','Zombies': f'Zombies_{num}'})\n",
    "    files.append(aux)\n",
    "files[0]"
   ]
  },
  {
   "cell_type": "code",
   "execution_count": null,
   "metadata": {},
   "outputs": [],
   "source": [
    "df = files.pop(0)\n",
    "for file in files:\n",
    "    df = df.join(file.set_index('Time'), on='Time', how='inner', rsuffix='_r')\n",
    "df"
   ]
  },
  {
   "cell_type": "code",
   "execution_count": null,
   "metadata": {},
   "outputs": [],
   "source": [
    "df.to_csv('./outputs/infection_velocities.csv', index=False, header=True)"
   ]
  },
  {
   "cell_type": "code",
   "execution_count": null,
   "metadata": {},
   "outputs": [],
   "source": []
  }
 ],
 "metadata": {
  "kernelspec": {
   "display_name": "Python 3.8.9 ('venv': venv)",
   "language": "python",
   "name": "python3"
  },
  "language_info": {
   "codemirror_mode": {
    "name": "ipython",
    "version": 3
   },
   "file_extension": ".py",
   "mimetype": "text/x-python",
   "name": "python",
   "nbconvert_exporter": "python",
   "pygments_lexer": "ipython3",
   "version": "3.8.9"
  },
  "vscode": {
   "interpreter": {
    "hash": "3a27b36c8e3676c866322b152b5bd3a65d3d6427ab56736078000d7d3471a4b3"
   }
  }
 },
 "nbformat": 4,
 "nbformat_minor": 0
}

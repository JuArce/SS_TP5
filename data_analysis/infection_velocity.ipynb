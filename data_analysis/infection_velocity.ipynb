{
 "cells": [
  {
   "cell_type": "code",
   "execution_count": null,
   "metadata": {
    "collapsed": true
   },
   "outputs": [],
   "source": [
    "import pandas as pd"
   ]
  },
  {
   "cell_type": "code",
   "execution_count": 56,
   "metadata": {},
   "outputs": [],
   "source": [
    "files = {}\n",
    "files_numbers = [2,10,40,80,140,200,260,320]\n",
    "iterations = [0,1,2,3,4]"
   ]
  },
  {
   "cell_type": "code",
   "execution_count": 57,
   "metadata": {
    "collapsed": false,
    "pycharm": {
     "name": "#%%\n"
    }
   },
   "outputs": [
    {
     "data": {
      "text/plain": [
       "{2:        Time   Zombies    FZ_2_1    FZ_2_2    FZ_2_3    FZ_2_4\n",
       " 0     0.000  0.333333  0.333333  0.333333  0.333333  0.333333\n",
       " 1     0.125  0.333333  0.333333  0.333333  0.333333  0.333333\n",
       " 2     0.250  0.333333  0.333333  0.333333  0.333333  0.333333\n",
       " 3     0.375  0.333333  0.333333  0.333333  0.333333  0.333333\n",
       " 4     0.500  0.333333  0.333333  0.333333  0.333333  0.333333\n",
       " ..      ...       ...       ...       ...       ...       ...\n",
       " 619  77.375  1.000000  0.333333  0.666667  1.000000  1.000000\n",
       " 620  77.500  1.000000  0.333333  0.666667  1.000000  1.000000\n",
       " 621  77.625  1.000000  0.333333  0.666667  1.000000  1.000000\n",
       " 622  77.750  1.000000  0.333333  0.666667  1.000000  1.000000\n",
       " 623  77.875  1.000000  0.333333  0.666667  1.000000  1.000000\n",
       " \n",
       " [624 rows x 6 columns],\n",
       " 10:         Time   Zombies   FZ_10_1   FZ_10_2   FZ_10_3   FZ_10_4\n",
       " 0      0.000  0.090909  0.090909  0.090909  0.090909  0.090909\n",
       " 1      0.125  0.090909  0.090909  0.090909  0.090909  0.090909\n",
       " 2      0.250  0.090909  0.090909  0.090909  0.090909  0.090909\n",
       " 3      0.375  0.090909  0.090909  0.090909  0.090909  0.090909\n",
       " 4      0.500  0.090909  0.090909  0.090909  0.090909  0.090909\n",
       " ..       ...       ...       ...       ...       ...       ...\n",
       " 871  108.875  0.909091  1.000000  0.909091  0.909091  0.909091\n",
       " 872  109.000  0.909091  1.000000  0.909091  0.909091  0.909091\n",
       " 873  109.125  0.909091  1.000000  0.909091  0.909091  0.909091\n",
       " 874  109.250  0.909091  1.000000  0.909091  1.000000  0.909091\n",
       " 875  109.375  0.909091  1.000000  0.909091  1.000000  0.909091\n",
       " \n",
       " [876 rows x 6 columns],\n",
       " 40:        Time   Zombies  FZ_40_1  FZ_40_2  FZ_40_3   FZ_40_4\n",
       " 0     0.000  0.024390  0.02439  0.02439  0.02439  0.024390\n",
       " 1     0.125  0.024390  0.02439  0.02439  0.02439  0.024390\n",
       " 2     0.250  0.024390  0.02439  0.02439  0.02439  0.024390\n",
       " 3     0.375  0.024390  0.02439  0.02439  0.02439  0.024390\n",
       " 4     0.500  0.024390  0.02439  0.02439  0.02439  0.024390\n",
       " ..      ...       ...      ...      ...      ...       ...\n",
       " 612  76.500  0.926829  1.00000  0.97561  0.95122  0.926829\n",
       " 613  76.625  0.926829  1.00000  0.97561  0.95122  0.926829\n",
       " 614  76.750  0.926829  1.00000  0.97561  0.95122  0.926829\n",
       " 615  76.875  0.926829  1.00000  0.97561  0.95122  0.926829\n",
       " 616  77.000  0.926829  1.00000  0.97561  0.95122  0.926829\n",
       " \n",
       " [617 rows x 6 columns],\n",
       " 80:        Time   Zombies   FZ_80_1   FZ_80_2   FZ_80_3   FZ_80_4\n",
       " 0     0.000  0.012346  0.012346  0.012346  0.012346  0.012346\n",
       " 1     0.125  0.012346  0.012346  0.012346  0.012346  0.012346\n",
       " 2     0.250  0.012346  0.012346  0.012346  0.012346  0.012346\n",
       " 3     0.375  0.012346  0.012346  0.012346  0.012346  0.012346\n",
       " 4     0.500  0.012346  0.012346  0.012346  0.012346  0.012346\n",
       " ..      ...       ...       ...       ...       ...       ...\n",
       " 695  86.875  1.000000  1.000000  0.962963  0.876543  1.000000\n",
       " 696  87.000  1.000000  1.000000  0.962963  0.876543  1.000000\n",
       " 697  87.125  1.000000  1.000000  0.962963  0.876543  1.000000\n",
       " 698  87.250  1.000000  1.000000  0.962963  0.876543  1.000000\n",
       " 699  87.375  1.000000  1.000000  0.962963  0.876543  1.000000\n",
       " \n",
       " [700 rows x 6 columns],\n",
       " 140:        Time   Zombies  FZ_140_1  FZ_140_2  FZ_140_3  FZ_140_4\n",
       " 0     0.000  0.007092  0.007092  0.007092  0.007092  0.007092\n",
       " 1     0.125  0.007092  0.007092  0.007092  0.007092  0.007092\n",
       " 2     0.250  0.007092  0.007092  0.007092  0.007092  0.007092\n",
       " 3     0.375  0.014184  0.014184  0.014184  0.014184  0.014184\n",
       " 4     0.500  0.014184  0.014184  0.014184  0.014184  0.014184\n",
       " ..      ...       ...       ...       ...       ...       ...\n",
       " 718  89.750  1.000000  0.964539  1.000000  1.000000  0.992908\n",
       " 719  89.875  1.000000  0.964539  1.000000  1.000000  0.992908\n",
       " 720  90.000  1.000000  0.964539  1.000000  1.000000  0.992908\n",
       " 721  90.125  1.000000  0.964539  1.000000  1.000000  0.992908\n",
       " 722  90.250  1.000000  0.964539  1.000000  1.000000  0.992908\n",
       " \n",
       " [723 rows x 6 columns],\n",
       " 200:         Time   Zombies  FZ_200_1  FZ_200_2  FZ_200_3  FZ_200_4\n",
       " 0      0.000  0.004975  0.004975  0.004975  0.004975  0.004975\n",
       " 1      0.125  0.004975  0.004975  0.004975  0.004975  0.004975\n",
       " 2      0.250  0.004975  0.004975  0.004975  0.004975  0.004975\n",
       " 3      0.375  0.004975  0.004975  0.004975  0.004975  0.004975\n",
       " 4      0.500  0.004975  0.004975  0.004975  0.004975  0.004975\n",
       " ..       ...       ...       ...       ...       ...       ...\n",
       " 862  107.750  0.975124  0.960199  1.000000  0.975124  0.985075\n",
       " 863  107.875  0.975124  0.970149  1.000000  0.980100  0.990050\n",
       " 864  108.000  0.975124  0.975124  1.000000  0.985075  0.995025\n",
       " 865  108.125  0.975124  0.975124  1.000000  0.985075  0.995025\n",
       " 866  108.250  0.975124  0.975124  1.000000  0.985075  0.995025\n",
       " \n",
       " [867 rows x 6 columns],\n",
       " 260:         Time   Zombies  FZ_260_1  FZ_260_2  FZ_260_3  FZ_260_4\n",
       " 0      0.000  0.003831  0.003831  0.003831  0.003831  0.003831\n",
       " 1      0.125  0.003831  0.003831  0.003831  0.003831  0.003831\n",
       " 2      0.250  0.007663  0.007663  0.007663  0.007663  0.007663\n",
       " 3      0.375  0.007663  0.007663  0.007663  0.007663  0.007663\n",
       " 4      0.500  0.007663  0.007663  0.007663  0.007663  0.007663\n",
       " ..       ...       ...       ...       ...       ...       ...\n",
       " 917  114.625  0.980843  0.980843  1.000000  0.942529  1.000000\n",
       " 918  114.750  0.980843  0.980843  1.000000  0.942529  1.000000\n",
       " 919  114.875  0.980843  0.980843  1.000000  0.942529  1.000000\n",
       " 920  115.000  0.980843  0.980843  1.000000  0.942529  1.000000\n",
       " 921  115.125  0.980843  0.980843  1.000000  0.942529  1.000000\n",
       " \n",
       " [922 rows x 6 columns],\n",
       " 320:         Time   Zombies  FZ_320_1  FZ_320_2  FZ_320_3  FZ_320_4\n",
       " 0      0.000  0.003115  0.003115  0.003115  0.003115  0.003115\n",
       " 1      0.125  0.003115  0.003115  0.003115  0.003115  0.003115\n",
       " 2      0.250  0.006231  0.006231  0.006231  0.006231  0.006231\n",
       " 3      0.375  0.006231  0.006231  0.006231  0.006231  0.006231\n",
       " 4      0.500  0.006231  0.006231  0.006231  0.006231  0.006231\n",
       " ..       ...       ...       ...       ...       ...       ...\n",
       " 968  121.000  0.993769  0.990654  0.984424  0.968847  1.000000\n",
       " 969  121.125  0.993769  0.990654  0.984424  0.971963  1.000000\n",
       " 970  121.250  0.993769  0.990654  0.984424  0.975078  1.000000\n",
       " 971  121.375  0.993769  0.990654  0.984424  0.975078  1.000000\n",
       " 972  121.500  0.993769  0.990654  0.984424  0.975078  1.000000\n",
       " \n",
       " [973 rows x 6 columns]}"
      ]
     },
     "execution_count": 57,
     "metadata": {},
     "output_type": "execute_result"
    }
   ],
   "source": [
    "# join every data frame in df\n",
    "for num in files_numbers:\n",
    "    for i in iterations:\n",
    "        aux = pd.read_csv(f'../src/main/resources/output/velocity/diffNh/velocity_{num}_{i}.csv')\n",
    "        if num not in files:\n",
    "            files[num] = aux\n",
    "        else:\n",
    "            aux = aux.rename(columns={'Time':'Time','Zombies': f'FZ_{num}_{i}'})\n",
    "            files[num] = files[num].join(aux.set_index('Time'), on='Time', how='inner', rsuffix='_r')\n",
    "files"
   ]
  },
  {
   "cell_type": "code",
   "execution_count": 58,
   "metadata": {},
   "outputs": [
    {
     "name": "stderr",
     "output_type": "stream",
     "text": [
      "/var/folders/ld/9r7b_z792271p_ycsc8k24240000gn/T/ipykernel_50516/2853860185.py:5: FutureWarning: In a future version of pandas all arguments of DataFrame.drop except for the argument 'labels' will be keyword-only.\n",
      "  files[key] = files[key].drop(files[key].columns.difference(['Time',f'FZ_{key}']), 1)\n",
      "/var/folders/ld/9r7b_z792271p_ycsc8k24240000gn/T/ipykernel_50516/2853860185.py:5: FutureWarning: In a future version of pandas all arguments of DataFrame.drop except for the argument 'labels' will be keyword-only.\n",
      "  files[key] = files[key].drop(files[key].columns.difference(['Time',f'FZ_{key}']), 1)\n",
      "/var/folders/ld/9r7b_z792271p_ycsc8k24240000gn/T/ipykernel_50516/2853860185.py:5: FutureWarning: In a future version of pandas all arguments of DataFrame.drop except for the argument 'labels' will be keyword-only.\n",
      "  files[key] = files[key].drop(files[key].columns.difference(['Time',f'FZ_{key}']), 1)\n",
      "/var/folders/ld/9r7b_z792271p_ycsc8k24240000gn/T/ipykernel_50516/2853860185.py:5: FutureWarning: In a future version of pandas all arguments of DataFrame.drop except for the argument 'labels' will be keyword-only.\n",
      "  files[key] = files[key].drop(files[key].columns.difference(['Time',f'FZ_{key}']), 1)\n",
      "/var/folders/ld/9r7b_z792271p_ycsc8k24240000gn/T/ipykernel_50516/2853860185.py:5: FutureWarning: In a future version of pandas all arguments of DataFrame.drop except for the argument 'labels' will be keyword-only.\n",
      "  files[key] = files[key].drop(files[key].columns.difference(['Time',f'FZ_{key}']), 1)\n",
      "/var/folders/ld/9r7b_z792271p_ycsc8k24240000gn/T/ipykernel_50516/2853860185.py:5: FutureWarning: In a future version of pandas all arguments of DataFrame.drop except for the argument 'labels' will be keyword-only.\n",
      "  files[key] = files[key].drop(files[key].columns.difference(['Time',f'FZ_{key}']), 1)\n",
      "/var/folders/ld/9r7b_z792271p_ycsc8k24240000gn/T/ipykernel_50516/2853860185.py:5: FutureWarning: In a future version of pandas all arguments of DataFrame.drop except for the argument 'labels' will be keyword-only.\n",
      "  files[key] = files[key].drop(files[key].columns.difference(['Time',f'FZ_{key}']), 1)\n",
      "/var/folders/ld/9r7b_z792271p_ycsc8k24240000gn/T/ipykernel_50516/2853860185.py:5: FutureWarning: In a future version of pandas all arguments of DataFrame.drop except for the argument 'labels' will be keyword-only.\n",
      "  files[key] = files[key].drop(files[key].columns.difference(['Time',f'FZ_{key}']), 1)\n"
     ]
    }
   ],
   "source": [
    "# take average for each time in every key\n",
    "for key in files:\n",
    "    files[key][f'FZ_{key}'] = files[key].mean(axis=1)\n",
    "    #drop all columns except mean\n",
    "    files[key] = files[key].drop(files[key].columns.difference(['Time',f'FZ_{key}']), 1)"
   ]
  },
  {
   "cell_type": "code",
   "execution_count": 60,
   "metadata": {},
   "outputs": [],
   "source": [
    "# join all data frames in one\n",
    "df = files[2]\n",
    "for key in files:\n",
    "    if key != 2:\n",
    "        df = df.join(files[key].set_index('Time'), on='Time', how='inner', rsuffix='_r')"
   ]
  },
  {
   "cell_type": "code",
   "execution_count": null,
   "metadata": {},
   "outputs": [],
   "source": [
    "df.to_csv('./outputs/infection_velocities.csv', index=False, header=True)"
   ]
  },
  {
   "cell_type": "code",
   "execution_count": null,
   "metadata": {},
   "outputs": [],
   "source": []
  }
 ],
 "metadata": {
  "kernelspec": {
   "display_name": "Python 3.8.9 ('venv': venv)",
   "language": "python",
   "name": "python3"
  },
  "language_info": {
   "codemirror_mode": {
    "name": "ipython",
    "version": 3
   },
   "file_extension": ".py",
   "mimetype": "text/x-python",
   "name": "python",
   "nbconvert_exporter": "python",
   "pygments_lexer": "ipython3",
   "version": "3.8.9"
  },
  "vscode": {
   "interpreter": {
    "hash": "3a27b36c8e3676c866322b152b5bd3a65d3d6427ab56736078000d7d3471a4b3"
   }
  }
 },
 "nbformat": 4,
 "nbformat_minor": 0
}

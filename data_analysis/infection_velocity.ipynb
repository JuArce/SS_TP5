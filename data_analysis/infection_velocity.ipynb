{
 "cells": [
  {
   "cell_type": "code",
   "execution_count": null,
   "metadata": {
    "collapsed": true
   },
   "outputs": [],
   "source": [
    "import pandas as pd"
   ]
  },
  {
   "cell_type": "code",
   "execution_count": null,
   "metadata": {},
   "outputs": [],
   "source": [
    "files = []\n",
    "files_numbers = [2,10,40,80,140,200,260,320]"
   ]
  },
  {
   "cell_type": "code",
   "execution_count": null,
   "metadata": {
    "collapsed": false,
    "pycharm": {
     "name": "#%%\n"
    }
   },
   "outputs": [],
   "source": [
    "# join every data frame in df\n",
    "for num in files_numbers:\n",
    "    aux = pd.read_csv(f'../src/main/resources/output/velocity/diffNh/velocity_{num}_{1}.csv')\n",
    "    aux = aux.rename(columns={'Time':'Time','Zombies': f'FZ_{num}'})\n",
    "    files.append(aux)\n",
    "#set Time as index and should be ordered ascending for every file\n",
    "for i in range(len(files)):\n",
    "    files[i] = files[i].set_index('Time')\n",
    "    files[i] = files[i].sort_index(ascending=True)\n"
   ]
  },
  {
   "cell_type": "code",
   "execution_count": null,
   "metadata": {},
   "outputs": [],
   "source": [
    "#plot all the data frames in one graph\n",
    "import matplotlib.pyplot as plt\n",
    "import numpy as np\n",
    "\n",
    "fig, ax = plt.subplots(figsize=(10, 5))\n",
    "for i in range(len(files)):\n",
    "    ax.plot(files[i].index, files[i][f'FZ_{files_numbers[i]}'], label=f'FZ_{files_numbers[i]}')\n",
    "ax.set_xlabel('t(s)')\n",
    "ax.set_ylabel('FZ')\n",
    "ax.set_title('FZ vs tiempo')\n",
    "\n",
    "ax.legend()\n",
    "\n",
    "#export to png with file name \"FZ en funcion del tiempo\" with 600 dpi\n",
    "fig.savefig('./outputs/FZvsT.png')\n",
    "\n",
    "\n",
    "plt.show()\n",
    "\n",
    "\n"
   ]
  },
  {
   "cell_type": "code",
   "execution_count": null,
   "metadata": {},
   "outputs": [],
   "source": []
  }
 ],
 "metadata": {
  "kernelspec": {
   "display_name": "Python 3.10.8 64-bit",
   "language": "python",
   "name": "python3"
  },
  "language_info": {
   "codemirror_mode": {
    "name": "ipython",
    "version": 3
   },
   "file_extension": ".py",
   "mimetype": "text/x-python",
   "name": "python",
   "nbconvert_exporter": "python",
   "pygments_lexer": "ipython3",
   "version": "3.10.8"
  },
  "vscode": {
   "interpreter": {
    "hash": "b0fa6594d8f4cbf19f97940f81e996739fb7646882a419484c72d19e05852a7e"
   }
  }
 },
 "nbformat": 4,
 "nbformat_minor": 0
}

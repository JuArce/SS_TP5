{
 "cells": [
  {
   "cell_type": "code",
   "execution_count": null,
   "metadata": {
    "collapsed": true
   },
   "outputs": [],
   "source": [
    "import pandas as pd"
   ]
  },
  {
   "cell_type": "code",
   "execution_count": null,
   "metadata": {},
   "outputs": [],
   "source": [
    "files = {}\n",
    "files_numbers = [2,10,40,80,140,200,260,320]\n",
    "iterations = [0,1,2,3,4]"
   ]
  },
  {
   "cell_type": "code",
   "execution_count": null,
   "metadata": {
    "collapsed": false,
    "pycharm": {
     "name": "#%%\n"
    }
   },
   "outputs": [],
   "source": [
    "# join every data frame in df\n",
    "for num in files_numbers:\n",
    "    for i in iterations:\n",
    "        aux = pd.read_csv(f'../src/main/resources/output/velocity/diffNh/velocity_{num}_{i}.csv')\n",
    "        if num not in files:\n",
    "            files[num] = aux\n",
    "        else:\n",
    "            aux = aux.rename(columns={'Time':'Time','Zombies': f'FZ_{num}_{i}'})\n",
    "            files[num] = files[num].join(aux.set_index('Time'), on='Time', how='inner', rsuffix='_r')\n",
    "files"
   ]
  },
  {
   "cell_type": "code",
   "execution_count": null,
   "metadata": {},
   "outputs": [],
   "source": [
    "# take average for each time in every key\n",
    "for key in files:\n",
    "    files[key][f'FZ_{key}'] = files[key].mean(axis=1)\n",
    "    #drop all columns except mean\n",
    "    files[key] = files[key].drop(files[key].columns.difference(['Time',f'FZ_{key}']), 1)"
   ]
  },
  {
   "cell_type": "code",
   "execution_count": null,
   "metadata": {},
   "outputs": [],
   "source": [
    "# join all data frames in one\n",
    "df = files[2]\n",
    "for key in files:\n",
    "    if key != 2:\n",
    "        df = df.join(files[key].set_index('Time'), on='Time', how='inner', rsuffix='_r')"
   ]
  },
  {
   "cell_type": "code",
   "execution_count": null,
   "metadata": {},
   "outputs": [],
   "source": [
    "df.to_csv('./outputs/infection_velocities.csv', index=False, header=True)"
   ]
  },
  {
   "cell_type": "code",
   "execution_count": null,
   "metadata": {},
   "outputs": [],
   "source": []
  }
 ],
 "metadata": {
  "kernelspec": {
   "display_name": "Python 3.10.8 64-bit",
   "language": "python",
   "name": "python3"
  },
  "language_info": {
   "codemirror_mode": {
    "name": "ipython",
    "version": 3
   },
   "file_extension": ".py",
   "mimetype": "text/x-python",
   "name": "python",
   "nbconvert_exporter": "python",
   "pygments_lexer": "ipython3",
   "version": "3.10.8"
  },
  "vscode": {
   "interpreter": {
    "hash": "b0fa6594d8f4cbf19f97940f81e996739fb7646882a419484c72d19e05852a7e"
   }
  }
 },
 "nbformat": 4,
 "nbformat_minor": 0
}

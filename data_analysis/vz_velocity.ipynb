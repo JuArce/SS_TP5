{
 "cells": [
  {
   "cell_type": "code",
   "execution_count": null,
   "metadata": {},
   "outputs": [],
   "source": [
    "import pandas as pd\n",
    "import matplotlib.pyplot as plt\n",
    "import numpy as np"
   ]
  },
  {
   "cell_type": "code",
   "execution_count": null,
   "metadata": {},
   "outputs": [],
   "source": [
    "files = {}\n",
    "files_numbers = [\"1.0\", \"1.5\", \"2.0\", \"2.5\", \"3.0\", \"3.5\", \"4.0\", \"4.5\", \"5.0\"]\n",
    "iterations = [0,1,2,3,4]\n",
    "total_humans = 140"
   ]
  },
  {
   "cell_type": "code",
   "execution_count": null,
   "metadata": {},
   "outputs": [],
   "source": [
    "# join every data frame in df\n",
    "for num in files_numbers:\n",
    "    for i in iterations:\n",
    "        aux = pd.read_csv(f'../src/main/resources/output/velocity/diffVz/velocity_{total_humans}_{i}_vz_{num}.csv')\n",
    "        #take only the last row\n",
    "        aux = aux.tail(1)\n",
    "        aux['v'] = total_humans / aux['Time']\n",
    "        if num not in files:\n",
    "            files[num] = aux.rename(columns={'Time':'Time','Zombies': 'FZ', \"v\": \"v\"})\n",
    "        else:\n",
    "            aux = aux.rename(columns={'Time':'Time','Zombies': f'FZ', \"v\": \"v\"})\n",
    "            #append the new data frame to the existing one considering index as Time if Nan then 1\n",
    "            files[num] = files[num].append(aux)\n",
    "    #calculate the mean of time\n",
    "    files[num]['Vz'] = num\n",
    "    files[num][f'mean'] = files[num]['v'].mean()\n",
    "    #calculate the standard deviation of time\n",
    "    files[num][f'std'] = files[num]['v'].std()\n",
    "    \n",
    "    #drop all columns except mean and std and Vz\n",
    "    files[num] = files[num].drop(columns=['Time', 'FZ', 'v'])\n",
    "    #take only the first row\n",
    "    files[num] = files[num].head(1)\n",
    "    \n",
    "files"
   ]
  },
  {
   "cell_type": "code",
   "execution_count": null,
   "metadata": {},
   "outputs": [],
   "source": [
    "df = pd.DataFrame(columns=['Vz','mean','std'])\n",
    "for num in files_numbers:\n",
    "    #append num, mean and std to df\n",
    "    df = df.append(files[num])\n",
    "df"
   ]
  },
  {
   "cell_type": "code",
   "execution_count": null,
   "metadata": {},
   "outputs": [],
   "source": [
    "# graph of error bars\n",
    "\n",
    "plt.figure(figsize=(10,5))\n",
    "#error bar with only Nh values in x axis\n",
    "plt.errorbar(df['Vz'], df['mean'], yerr=df['std'], fmt='o', capsize=5)\n",
    "#with x= 0 in the intersection\n",
    "plt.xlabel('Vz (m/s)')\n",
    "plt.ylabel('Velocidad de contagio (Zombies/s)')\n",
    "#export plt to png in outputs folder from data_analysis\n",
    "plt.savefig('./outputs/vz_velocity.png')\n",
    "plt.show()"
   ]
  }
 ],
 "metadata": {
  "kernelspec": {
   "display_name": "Python 3.10.8 64-bit",
   "language": "python",
   "name": "python3"
  },
  "language_info": {
   "codemirror_mode": {
    "name": "ipython",
    "version": 3
   },
   "file_extension": ".py",
   "mimetype": "text/x-python",
   "name": "python",
   "nbconvert_exporter": "python",
   "pygments_lexer": "ipython3",
   "version": "3.10.8"
  },
  "orig_nbformat": 4,
  "vscode": {
   "interpreter": {
    "hash": "b0fa6594d8f4cbf19f97940f81e996739fb7646882a419484c72d19e05852a7e"
   }
  }
 },
 "nbformat": 4,
 "nbformat_minor": 2
}

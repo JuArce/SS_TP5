{
 "cells": [
  {
   "cell_type": "code",
   "execution_count": null,
   "metadata": {},
   "outputs": [],
   "source": [
    "import pandas as pd"
   ]
  },
  {
   "cell_type": "code",
   "execution_count": null,
   "metadata": {},
   "outputs": [],
   "source": [
    "files = []\n",
    "#file numbers from 1 to 5 with step 0.5 create list called files_numbers with strings\n",
    "files_numbers = [\"1.0\", \"1.5\", \"2.0\", \"2.5\", \"3.0\", \"3.5\", \"4.0\", \"4.5\", \"5.0\"]\n"
   ]
  },
  {
   "cell_type": "code",
   "execution_count": null,
   "metadata": {},
   "outputs": [],
   "source": [
    "for num in files_numbers:\n",
    "    aux = pd.read_csv(f'../src/main/resources/output/velocity/diffVz/velocity_140_0_vz_{num}.csv')\n",
    "    aux = aux.rename(columns={'Time':'Time','Zombies': f'Vz={num}'})\n",
    "    files.append(aux)\n",
    "#set Time as index and should be ordered ascending for every file\n",
    "for i in range(len(files)):\n",
    "    files[i] = files[i].set_index('Time')\n",
    "    files[i] = files[i].sort_index(ascending=True)\n"
   ]
  },
  {
   "cell_type": "code",
   "execution_count": null,
   "metadata": {},
   "outputs": [],
   "source": [
    "files"
   ]
  },
  {
   "cell_type": "code",
   "execution_count": null,
   "metadata": {},
   "outputs": [],
   "source": [
    "#plot all the data frames in one graph\n",
    "import matplotlib.pyplot as plt\n",
    "import numpy as np\n",
    "\n",
    "fig, ax = plt.subplots(figsize=(10, 5))\n",
    "for i in range(len(files)):\n",
    "    ax.plot(files[i].index, files[i][f'Vz={files_numbers[i]}'], label=f'Vz={files_numbers[i]}')\n",
    "ax.set_xlabel('t(s)')\n",
    "ax.set_ylabel('FZ')\n",
    "\n",
    "ax.legend()\n",
    "\n",
    "#export to png with file name \"FZ en funcion del tiempo\" with 600 dpi\n",
    "fig.savefig('./outputs/vz_infection_velocity.png')\n",
    "\n",
    "\n",
    "plt.show()\n"
   ]
  },
  {
   "cell_type": "code",
   "execution_count": null,
   "metadata": {},
   "outputs": [],
   "source": []
  }
 ],
 "metadata": {
  "kernelspec": {
   "display_name": "Python 3.10.8 64-bit",
   "language": "python",
   "name": "python3"
  },
  "language_info": {
   "codemirror_mode": {
    "name": "ipython",
    "version": 3
   },
   "file_extension": ".py",
   "mimetype": "text/x-python",
   "name": "python",
   "nbconvert_exporter": "python",
   "pygments_lexer": "ipython3",
   "version": "3.10.8"
  },
  "orig_nbformat": 4,
  "vscode": {
   "interpreter": {
    "hash": "b0fa6594d8f4cbf19f97940f81e996739fb7646882a419484c72d19e05852a7e"
   }
  }
 },
 "nbformat": 4,
 "nbformat_minor": 2
}

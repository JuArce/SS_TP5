{
 "cells": [
  {
   "cell_type": "code",
   "execution_count": null,
   "metadata": {},
   "outputs": [],
   "source": [
    "import pandas as pd\n",
    "import matplotlib.pyplot as plt\n",
    "import numpy as np"
   ]
  },
  {
   "cell_type": "code",
   "execution_count": null,
   "metadata": {},
   "outputs": [],
   "source": [
    "files = {}\n",
    "files_numbers = [2,10,40,80,140,200,260,320]\n",
    "iterations = [0,1,2,3,4]"
   ]
  },
  {
   "cell_type": "code",
   "execution_count": null,
   "metadata": {},
   "outputs": [],
   "source": [
    "# join every data frame in df\n",
    "for num in files_numbers:\n",
    "    for i in iterations:\n",
    "        aux = pd.read_csv(f'../src/main/resources/output/velocity/diffNh/velocity_{num}_{i}.csv')\n",
    "        #take only the last row\n",
    "        aux = aux.tail(1)\n",
    "        if num not in files:\n",
    "            files[num] = aux.rename(columns={'Time':'Time','Zombies': f'FZ'})\n",
    "        else:\n",
    "            aux = aux.rename(columns={'Time':'Time','Zombies': f'FZ'})\n",
    "            files[num] = files[num].append(aux)\n",
    "    #calculate the mean of time\n",
    "    files[num][f'mean'] = files[num]['Time'].mean()\n",
    "    #calculate the standard deviation of time\n",
    "    files[num][f'std'] = files[num]['Time'].std()\n",
    "    files[num]['Nh'] = num\n",
    "    #drop all columns except mean and std\n",
    "    files[num] = files[num].drop(columns=['Time','FZ'])\n",
    "    #take only the first row\n",
    "    files[num] = files[num].head(1)\n",
    "    \n",
    "files"
   ]
  },
  {
   "cell_type": "code",
   "execution_count": null,
   "metadata": {},
   "outputs": [],
   "source": [
    "files[10]"
   ]
  },
  {
   "cell_type": "code",
   "execution_count": null,
   "metadata": {},
   "outputs": [],
   "source": [
    "df = pd.DataFrame(columns=['Nh','mean','std'])\n",
    "for num in files_numbers:\n",
    "    #append num, mean and std to df\n",
    "    df = df.append(files[num])\n",
    "df\n",
    "\n"
   ]
  },
  {
   "cell_type": "code",
   "execution_count": null,
   "metadata": {},
   "outputs": [],
   "source": [
    "# graph of error bars\n",
    "\n",
    "plt.figure(figsize=(10,5))\n",
    "#error bar with only Nh values in x axis\n",
    "plt.errorbar(df['Nh'], df['mean'], yerr=df['std'], fmt='o', capsize=5)\n",
    "#with x= 0 in the intersection\n",
    "plt.xlim(-10,350)\n",
    "plt.ylim(0,175)\n",
    "plt.xlabel('Nh')\n",
    "plt.ylabel('Tiempo de contagio')\n",
    "#export plt to png in outputs folder from data_analysis\n",
    "plt.savefig('./outputs/velocity_whole_infection.png')\n",
    "plt.show()\n"
   ]
  },
  {
   "cell_type": "code",
   "execution_count": null,
   "metadata": {},
   "outputs": [],
   "source": []
  }
 ],
 "metadata": {
  "kernelspec": {
   "display_name": "Python 3.10.8 64-bit",
   "language": "python",
   "name": "python3"
  },
  "language_info": {
   "codemirror_mode": {
    "name": "ipython",
    "version": 3
   },
   "file_extension": ".py",
   "mimetype": "text/x-python",
   "name": "python",
   "nbconvert_exporter": "python",
   "pygments_lexer": "ipython3",
   "version": "3.10.8"
  },
  "orig_nbformat": 4,
  "vscode": {
   "interpreter": {
    "hash": "b0fa6594d8f4cbf19f97940f81e996739fb7646882a419484c72d19e05852a7e"
   }
  }
 },
 "nbformat": 4,
 "nbformat_minor": 2
}

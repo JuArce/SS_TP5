{
 "cells": [
  {
   "cell_type": "code",
   "execution_count": 40,
   "metadata": {},
   "outputs": [],
   "source": [
    "import pandas as pd\n",
    "import matplotlib.pyplot as plt\n",
    "import numpy as np"
   ]
  },
  {
   "cell_type": "code",
   "execution_count": 41,
   "metadata": {},
   "outputs": [],
   "source": [
    "files = {}\n",
    "files_numbers = [2,10,40,80,140,200,260,320]\n",
    "iterations = [0,1,2,3,4]"
   ]
  },
  {
   "cell_type": "code",
   "execution_count": 42,
   "metadata": {},
   "outputs": [
    {
     "name": "stderr",
     "output_type": "stream",
     "text": [
      "/var/folders/ld/9r7b_z792271p_ycsc8k24240000gn/T/ipykernel_60807/3071918145.py:11: FutureWarning: The frame.append method is deprecated and will be removed from pandas in a future version. Use pandas.concat instead.\n",
      "  files[num] = files[num].append(aux)\n",
      "/var/folders/ld/9r7b_z792271p_ycsc8k24240000gn/T/ipykernel_60807/3071918145.py:11: FutureWarning: The frame.append method is deprecated and will be removed from pandas in a future version. Use pandas.concat instead.\n",
      "  files[num] = files[num].append(aux)\n",
      "/var/folders/ld/9r7b_z792271p_ycsc8k24240000gn/T/ipykernel_60807/3071918145.py:11: FutureWarning: The frame.append method is deprecated and will be removed from pandas in a future version. Use pandas.concat instead.\n",
      "  files[num] = files[num].append(aux)\n",
      "/var/folders/ld/9r7b_z792271p_ycsc8k24240000gn/T/ipykernel_60807/3071918145.py:11: FutureWarning: The frame.append method is deprecated and will be removed from pandas in a future version. Use pandas.concat instead.\n",
      "  files[num] = files[num].append(aux)\n",
      "/var/folders/ld/9r7b_z792271p_ycsc8k24240000gn/T/ipykernel_60807/3071918145.py:11: FutureWarning: The frame.append method is deprecated and will be removed from pandas in a future version. Use pandas.concat instead.\n",
      "  files[num] = files[num].append(aux)\n",
      "/var/folders/ld/9r7b_z792271p_ycsc8k24240000gn/T/ipykernel_60807/3071918145.py:11: FutureWarning: The frame.append method is deprecated and will be removed from pandas in a future version. Use pandas.concat instead.\n",
      "  files[num] = files[num].append(aux)\n",
      "/var/folders/ld/9r7b_z792271p_ycsc8k24240000gn/T/ipykernel_60807/3071918145.py:11: FutureWarning: The frame.append method is deprecated and will be removed from pandas in a future version. Use pandas.concat instead.\n",
      "  files[num] = files[num].append(aux)\n",
      "/var/folders/ld/9r7b_z792271p_ycsc8k24240000gn/T/ipykernel_60807/3071918145.py:11: FutureWarning: The frame.append method is deprecated and will be removed from pandas in a future version. Use pandas.concat instead.\n",
      "  files[num] = files[num].append(aux)\n",
      "/var/folders/ld/9r7b_z792271p_ycsc8k24240000gn/T/ipykernel_60807/3071918145.py:11: FutureWarning: The frame.append method is deprecated and will be removed from pandas in a future version. Use pandas.concat instead.\n",
      "  files[num] = files[num].append(aux)\n",
      "/var/folders/ld/9r7b_z792271p_ycsc8k24240000gn/T/ipykernel_60807/3071918145.py:11: FutureWarning: The frame.append method is deprecated and will be removed from pandas in a future version. Use pandas.concat instead.\n",
      "  files[num] = files[num].append(aux)\n",
      "/var/folders/ld/9r7b_z792271p_ycsc8k24240000gn/T/ipykernel_60807/3071918145.py:11: FutureWarning: The frame.append method is deprecated and will be removed from pandas in a future version. Use pandas.concat instead.\n",
      "  files[num] = files[num].append(aux)\n",
      "/var/folders/ld/9r7b_z792271p_ycsc8k24240000gn/T/ipykernel_60807/3071918145.py:11: FutureWarning: The frame.append method is deprecated and will be removed from pandas in a future version. Use pandas.concat instead.\n",
      "  files[num] = files[num].append(aux)\n",
      "/var/folders/ld/9r7b_z792271p_ycsc8k24240000gn/T/ipykernel_60807/3071918145.py:11: FutureWarning: The frame.append method is deprecated and will be removed from pandas in a future version. Use pandas.concat instead.\n",
      "  files[num] = files[num].append(aux)\n",
      "/var/folders/ld/9r7b_z792271p_ycsc8k24240000gn/T/ipykernel_60807/3071918145.py:11: FutureWarning: The frame.append method is deprecated and will be removed from pandas in a future version. Use pandas.concat instead.\n",
      "  files[num] = files[num].append(aux)\n",
      "/var/folders/ld/9r7b_z792271p_ycsc8k24240000gn/T/ipykernel_60807/3071918145.py:11: FutureWarning: The frame.append method is deprecated and will be removed from pandas in a future version. Use pandas.concat instead.\n",
      "  files[num] = files[num].append(aux)\n",
      "/var/folders/ld/9r7b_z792271p_ycsc8k24240000gn/T/ipykernel_60807/3071918145.py:11: FutureWarning: The frame.append method is deprecated and will be removed from pandas in a future version. Use pandas.concat instead.\n",
      "  files[num] = files[num].append(aux)\n",
      "/var/folders/ld/9r7b_z792271p_ycsc8k24240000gn/T/ipykernel_60807/3071918145.py:11: FutureWarning: The frame.append method is deprecated and will be removed from pandas in a future version. Use pandas.concat instead.\n",
      "  files[num] = files[num].append(aux)\n",
      "/var/folders/ld/9r7b_z792271p_ycsc8k24240000gn/T/ipykernel_60807/3071918145.py:11: FutureWarning: The frame.append method is deprecated and will be removed from pandas in a future version. Use pandas.concat instead.\n",
      "  files[num] = files[num].append(aux)\n",
      "/var/folders/ld/9r7b_z792271p_ycsc8k24240000gn/T/ipykernel_60807/3071918145.py:11: FutureWarning: The frame.append method is deprecated and will be removed from pandas in a future version. Use pandas.concat instead.\n",
      "  files[num] = files[num].append(aux)\n",
      "/var/folders/ld/9r7b_z792271p_ycsc8k24240000gn/T/ipykernel_60807/3071918145.py:11: FutureWarning: The frame.append method is deprecated and will be removed from pandas in a future version. Use pandas.concat instead.\n",
      "  files[num] = files[num].append(aux)\n",
      "/var/folders/ld/9r7b_z792271p_ycsc8k24240000gn/T/ipykernel_60807/3071918145.py:11: FutureWarning: The frame.append method is deprecated and will be removed from pandas in a future version. Use pandas.concat instead.\n",
      "  files[num] = files[num].append(aux)\n",
      "/var/folders/ld/9r7b_z792271p_ycsc8k24240000gn/T/ipykernel_60807/3071918145.py:11: FutureWarning: The frame.append method is deprecated and will be removed from pandas in a future version. Use pandas.concat instead.\n",
      "  files[num] = files[num].append(aux)\n",
      "/var/folders/ld/9r7b_z792271p_ycsc8k24240000gn/T/ipykernel_60807/3071918145.py:11: FutureWarning: The frame.append method is deprecated and will be removed from pandas in a future version. Use pandas.concat instead.\n",
      "  files[num] = files[num].append(aux)\n",
      "/var/folders/ld/9r7b_z792271p_ycsc8k24240000gn/T/ipykernel_60807/3071918145.py:11: FutureWarning: The frame.append method is deprecated and will be removed from pandas in a future version. Use pandas.concat instead.\n",
      "  files[num] = files[num].append(aux)\n",
      "/var/folders/ld/9r7b_z792271p_ycsc8k24240000gn/T/ipykernel_60807/3071918145.py:11: FutureWarning: The frame.append method is deprecated and will be removed from pandas in a future version. Use pandas.concat instead.\n",
      "  files[num] = files[num].append(aux)\n",
      "/var/folders/ld/9r7b_z792271p_ycsc8k24240000gn/T/ipykernel_60807/3071918145.py:11: FutureWarning: The frame.append method is deprecated and will be removed from pandas in a future version. Use pandas.concat instead.\n",
      "  files[num] = files[num].append(aux)\n",
      "/var/folders/ld/9r7b_z792271p_ycsc8k24240000gn/T/ipykernel_60807/3071918145.py:11: FutureWarning: The frame.append method is deprecated and will be removed from pandas in a future version. Use pandas.concat instead.\n",
      "  files[num] = files[num].append(aux)\n",
      "/var/folders/ld/9r7b_z792271p_ycsc8k24240000gn/T/ipykernel_60807/3071918145.py:11: FutureWarning: The frame.append method is deprecated and will be removed from pandas in a future version. Use pandas.concat instead.\n",
      "  files[num] = files[num].append(aux)\n",
      "/var/folders/ld/9r7b_z792271p_ycsc8k24240000gn/T/ipykernel_60807/3071918145.py:11: FutureWarning: The frame.append method is deprecated and will be removed from pandas in a future version. Use pandas.concat instead.\n",
      "  files[num] = files[num].append(aux)\n",
      "/var/folders/ld/9r7b_z792271p_ycsc8k24240000gn/T/ipykernel_60807/3071918145.py:11: FutureWarning: The frame.append method is deprecated and will be removed from pandas in a future version. Use pandas.concat instead.\n",
      "  files[num] = files[num].append(aux)\n",
      "/var/folders/ld/9r7b_z792271p_ycsc8k24240000gn/T/ipykernel_60807/3071918145.py:11: FutureWarning: The frame.append method is deprecated and will be removed from pandas in a future version. Use pandas.concat instead.\n",
      "  files[num] = files[num].append(aux)\n",
      "/var/folders/ld/9r7b_z792271p_ycsc8k24240000gn/T/ipykernel_60807/3071918145.py:11: FutureWarning: The frame.append method is deprecated and will be removed from pandas in a future version. Use pandas.concat instead.\n",
      "  files[num] = files[num].append(aux)\n"
     ]
    },
    {
     "data": {
      "text/plain": [
       "{2:        mean        std  Nh\n",
       " 654  105.98  42.884414   2,\n",
       " 10:         mean       std  Nh\n",
       " 1091  120.03  9.943676  10,\n",
       " 40:        mean       std  Nh\n",
       " 823  91.895  9.745246  40,\n",
       " 80:       mean      std  Nh\n",
       " 725  94.08  6.20973  80,\n",
       " 140:        mean       std   Nh\n",
       " 764  97.725  6.424732  140,\n",
       " 200:         mean       std   Nh\n",
       " 951  117.415  5.858717  200,\n",
       " 260:          mean       std   Nh\n",
       " 1009  125.885  9.586638  260,\n",
       " 320:          mean       std   Nh\n",
       " 1049  130.235  5.112564  320}"
      ]
     },
     "execution_count": 42,
     "metadata": {},
     "output_type": "execute_result"
    }
   ],
   "source": [
    "# join every data frame in df\n",
    "for num in files_numbers:\n",
    "    for i in iterations:\n",
    "        aux = pd.read_csv(f'../src/main/resources/output/velocity/diffNh/velocity_{num}_{i}.csv')\n",
    "        #take only the last row\n",
    "        aux = aux.tail(1)\n",
    "        if num not in files:\n",
    "            files[num] = aux.rename(columns={'Time':'Time','Zombies': f'FZ'})\n",
    "        else:\n",
    "            aux = aux.rename(columns={'Time':'Time','Zombies': f'FZ'})\n",
    "            files[num] = files[num].append(aux)\n",
    "    #calculate the mean of time\n",
    "    files[num][f'mean'] = files[num]['Time'].mean()\n",
    "    #calculate the standard deviation of time\n",
    "    files[num][f'std'] = files[num]['Time'].std()\n",
    "    files[num]['Nh'] = num\n",
    "    #drop all columns except mean and std\n",
    "    files[num] = files[num].drop(columns=['Time','FZ'])\n",
    "    #take only the first row\n",
    "    files[num] = files[num].head(1)\n",
    "    \n",
    "files"
   ]
  },
  {
   "cell_type": "code",
   "execution_count": 43,
   "metadata": {},
   "outputs": [
    {
     "data": {
      "text/html": [
       "<div>\n",
       "<style scoped>\n",
       "    .dataframe tbody tr th:only-of-type {\n",
       "        vertical-align: middle;\n",
       "    }\n",
       "\n",
       "    .dataframe tbody tr th {\n",
       "        vertical-align: top;\n",
       "    }\n",
       "\n",
       "    .dataframe thead th {\n",
       "        text-align: right;\n",
       "    }\n",
       "</style>\n",
       "<table border=\"1\" class=\"dataframe\">\n",
       "  <thead>\n",
       "    <tr style=\"text-align: right;\">\n",
       "      <th></th>\n",
       "      <th>mean</th>\n",
       "      <th>std</th>\n",
       "      <th>Nh</th>\n",
       "    </tr>\n",
       "  </thead>\n",
       "  <tbody>\n",
       "    <tr>\n",
       "      <th>1091</th>\n",
       "      <td>120.03</td>\n",
       "      <td>9.943676</td>\n",
       "      <td>10</td>\n",
       "    </tr>\n",
       "  </tbody>\n",
       "</table>\n",
       "</div>"
      ],
      "text/plain": [
       "        mean       std  Nh\n",
       "1091  120.03  9.943676  10"
      ]
     },
     "execution_count": 43,
     "metadata": {},
     "output_type": "execute_result"
    }
   ],
   "source": [
    "files[10]"
   ]
  },
  {
   "cell_type": "code",
   "execution_count": 44,
   "metadata": {},
   "outputs": [
    {
     "name": "stderr",
     "output_type": "stream",
     "text": [
      "/var/folders/ld/9r7b_z792271p_ycsc8k24240000gn/T/ipykernel_60807/1476435776.py:4: FutureWarning: The frame.append method is deprecated and will be removed from pandas in a future version. Use pandas.concat instead.\n",
      "  df = df.append(files[num])\n",
      "/var/folders/ld/9r7b_z792271p_ycsc8k24240000gn/T/ipykernel_60807/1476435776.py:4: FutureWarning: The frame.append method is deprecated and will be removed from pandas in a future version. Use pandas.concat instead.\n",
      "  df = df.append(files[num])\n",
      "/var/folders/ld/9r7b_z792271p_ycsc8k24240000gn/T/ipykernel_60807/1476435776.py:4: FutureWarning: The frame.append method is deprecated and will be removed from pandas in a future version. Use pandas.concat instead.\n",
      "  df = df.append(files[num])\n",
      "/var/folders/ld/9r7b_z792271p_ycsc8k24240000gn/T/ipykernel_60807/1476435776.py:4: FutureWarning: The frame.append method is deprecated and will be removed from pandas in a future version. Use pandas.concat instead.\n",
      "  df = df.append(files[num])\n",
      "/var/folders/ld/9r7b_z792271p_ycsc8k24240000gn/T/ipykernel_60807/1476435776.py:4: FutureWarning: The frame.append method is deprecated and will be removed from pandas in a future version. Use pandas.concat instead.\n",
      "  df = df.append(files[num])\n",
      "/var/folders/ld/9r7b_z792271p_ycsc8k24240000gn/T/ipykernel_60807/1476435776.py:4: FutureWarning: The frame.append method is deprecated and will be removed from pandas in a future version. Use pandas.concat instead.\n",
      "  df = df.append(files[num])\n",
      "/var/folders/ld/9r7b_z792271p_ycsc8k24240000gn/T/ipykernel_60807/1476435776.py:4: FutureWarning: The frame.append method is deprecated and will be removed from pandas in a future version. Use pandas.concat instead.\n",
      "  df = df.append(files[num])\n",
      "/var/folders/ld/9r7b_z792271p_ycsc8k24240000gn/T/ipykernel_60807/1476435776.py:4: FutureWarning: The frame.append method is deprecated and will be removed from pandas in a future version. Use pandas.concat instead.\n",
      "  df = df.append(files[num])\n"
     ]
    },
    {
     "data": {
      "text/html": [
       "<div>\n",
       "<style scoped>\n",
       "    .dataframe tbody tr th:only-of-type {\n",
       "        vertical-align: middle;\n",
       "    }\n",
       "\n",
       "    .dataframe tbody tr th {\n",
       "        vertical-align: top;\n",
       "    }\n",
       "\n",
       "    .dataframe thead th {\n",
       "        text-align: right;\n",
       "    }\n",
       "</style>\n",
       "<table border=\"1\" class=\"dataframe\">\n",
       "  <thead>\n",
       "    <tr style=\"text-align: right;\">\n",
       "      <th></th>\n",
       "      <th>Nh</th>\n",
       "      <th>mean</th>\n",
       "      <th>std</th>\n",
       "    </tr>\n",
       "  </thead>\n",
       "  <tbody>\n",
       "    <tr>\n",
       "      <th>654</th>\n",
       "      <td>2</td>\n",
       "      <td>105.980</td>\n",
       "      <td>42.884414</td>\n",
       "    </tr>\n",
       "    <tr>\n",
       "      <th>1091</th>\n",
       "      <td>10</td>\n",
       "      <td>120.030</td>\n",
       "      <td>9.943676</td>\n",
       "    </tr>\n",
       "    <tr>\n",
       "      <th>823</th>\n",
       "      <td>40</td>\n",
       "      <td>91.895</td>\n",
       "      <td>9.745246</td>\n",
       "    </tr>\n",
       "    <tr>\n",
       "      <th>725</th>\n",
       "      <td>80</td>\n",
       "      <td>94.080</td>\n",
       "      <td>6.209730</td>\n",
       "    </tr>\n",
       "    <tr>\n",
       "      <th>764</th>\n",
       "      <td>140</td>\n",
       "      <td>97.725</td>\n",
       "      <td>6.424732</td>\n",
       "    </tr>\n",
       "    <tr>\n",
       "      <th>951</th>\n",
       "      <td>200</td>\n",
       "      <td>117.415</td>\n",
       "      <td>5.858717</td>\n",
       "    </tr>\n",
       "    <tr>\n",
       "      <th>1009</th>\n",
       "      <td>260</td>\n",
       "      <td>125.885</td>\n",
       "      <td>9.586638</td>\n",
       "    </tr>\n",
       "    <tr>\n",
       "      <th>1049</th>\n",
       "      <td>320</td>\n",
       "      <td>130.235</td>\n",
       "      <td>5.112564</td>\n",
       "    </tr>\n",
       "  </tbody>\n",
       "</table>\n",
       "</div>"
      ],
      "text/plain": [
       "       Nh     mean        std\n",
       "654     2  105.980  42.884414\n",
       "1091   10  120.030   9.943676\n",
       "823    40   91.895   9.745246\n",
       "725    80   94.080   6.209730\n",
       "764   140   97.725   6.424732\n",
       "951   200  117.415   5.858717\n",
       "1009  260  125.885   9.586638\n",
       "1049  320  130.235   5.112564"
      ]
     },
     "execution_count": 44,
     "metadata": {},
     "output_type": "execute_result"
    }
   ],
   "source": [
    "df = pd.DataFrame(columns=['Nh','mean','std'])\n",
    "for num in files_numbers:\n",
    "    #append num, mean and std to df\n",
    "    df = df.append(files[num])\n",
    "df\n",
    "\n"
   ]
  },
  {
   "cell_type": "code",
   "execution_count": 45,
   "metadata": {},
   "outputs": [
    {
     "data": {
      "image/png": "[encoded data removed]",
      "text/plain": [
       "<Figure size 1000x500 with 1 Axes>"
      ]
     },
     "metadata": {},
     "output_type": "display_data"
    }
   ],
   "source": [
    "# graph of error bars\n",
    "\n",
    "plt.figure(figsize=(10,5))\n",
    "#error bar with only Nh values in x axis\n",
    "plt.errorbar(df['Nh'], df['mean'], yerr=df['std'], fmt='o', capsize=5)\n",
    "#with x= 0 in the intersection\n",
    "plt.xlim(-10,350)\n",
    "plt.ylim(0,175)\n",
    "plt.xlabel('Nh')\n",
    "plt.ylabel('Tiempo de contagio (s)')\n",
    "#export plt to png in outputs folder from data_analysis\n",
    "plt.savefig('./outputs/velocity_whole_infection.png')\n",
    "plt.show()\n"
   ]
  },
  {
   "cell_type": "code",
   "execution_count": null,
   "metadata": {},
   "outputs": [],
   "source": []
  }
 ],
 "metadata": {
  "kernelspec": {
   "display_name": "Python 3.10.8 64-bit",
   "language": "python",
   "name": "python3"
  },
  "language_info": {
   "codemirror_mode": {
    "name": "ipython",
    "version": 3
   },
   "file_extension": ".py",
   "mimetype": "text/x-python",
   "name": "python",
   "nbconvert_exporter": "python",
   "pygments_lexer": "ipython3",
   "version": "3.10.8"
  },
  "orig_nbformat": 4,
  "vscode": {
   "interpreter": {
    "hash": "b0fa6594d8f4cbf19f97940f81e996739fb7646882a419484c72d19e05852a7e"
   }
  }
 },
 "nbformat": 4,
 "nbformat_minor": 2
}
